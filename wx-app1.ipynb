{
 "cells": [
  {
   "cell_type": "markdown",
   "id": "c92f0065",
   "metadata": {},
   "source": [
    "每创建一个页面就要在page中创建一个文件夹\n",
    "每个页面在app.json需要写\n",
    "每个页面有.js .json(页面配置) .wxml .wxss （app的就是全局啥啥啥）\n",
    "about.js ——> page({})\n",
    "about.json ——> {}"
   ]
  },
  {
   "cell_type": "markdown",
   "id": "6120ea4d",
   "metadata": {},
   "source": [
    "### about.wxml \n",
    "<text>类似<span>\n",
    "<view>类似<div>\n",
    " <navigator url=\"/pages/weekly/weekly\" open-type=\"switchTab\" style=\"display: inline;\" hover-class=\"nav-hover\" class=\"nav-default\">每周推荐</navigator>\n",
    " url:地址  open-type:switchTab时表示tabBar和底层都要跳转时 \n",
    " hover-class: 需要跳转时点击时变颜色等操作"
   ]
  },
  {
   "cell_type": "markdown",
   "id": "dda61436",
   "metadata": {},
   "source": [
    "### app.json(全局配置)\n",
    "{\n",
    "  每个页面增减都需要在page中配置\n",
    "  \"pages\": [  \n",
    "    \"pages/about/about\",\n",
    "    \"pages/weekly/weekly\"    \n",
    "  ],\n",
    "  底部的导航页\n",
    "  \"tabBar\": {\n",
    "    \"list\": [\n",
    "      {\n",
    "        \"text\": \"每周推荐\",\n",
    "        \"pagePath\": \"pages/weekly/weekly\",\n",
    "        \"iconPath\": \"images/icons/weekly.png\", \n",
    "        \"selectedIconPath\": \"images/icons/weekly.png\" 被选择之后变icon\n",
    "      },\n",
    "      {\n",
    "        \"text\": \"关于\",\n",
    "        \"pagePath\": \"pages/about/about\",\n",
    "        \"iconPath\": \"images/icons/about.png\",\n",
    "        \"selectedIconPath\": \"images/icons/about.png\"\n",
    "      }\n",
    "    ],\n",
    "    \"color\": \"#000\",\n",
    "    \"selectedColor\": \"#00f\"\n",
    "  },\n",
    "  最顶部的页面\n",
    "  \"window\": {\n",
    "    \"navigationBarBackgroundColor\": \"#fff\",\n",
    "    \"navigationBarTextStyle\": \"black\",\n",
    "    \"navigationBarTitleText\": \"电影周周看\"\n",
    "  }\n",
    "}"
   ]
  }
 ],
 "metadata": {
  "kernelspec": {
   "display_name": "Python 3 (ipykernel)",
   "language": "python",
   "name": "python3"
  },
  "language_info": {
   "codemirror_mode": {
    "name": "ipython",
    "version": 3
   },
   "file_extension": ".py",
   "mimetype": "text/x-python",
   "name": "python",
   "nbconvert_exporter": "python",
   "pygments_lexer": "ipython3",
   "version": "3.9.12"
  }
 },
 "nbformat": 4,
 "nbformat_minor": 5
}
